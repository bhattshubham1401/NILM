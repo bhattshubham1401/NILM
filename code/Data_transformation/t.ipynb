{
 "cells": [
  {
   "cell_type": "code",
   "execution_count": 1,
   "metadata": {},
   "outputs": [],
   "source": [
    "import pandas as pd\n",
    "import numpy as np\n",
    "import matplotlib.pyplot as plt\n",
    "plt.rcParams[\"figure.figsize\"]= (10,2)\n",
    "from statsmodels.tsa.stattools import adfuller\n",
    "import warnings\n",
    "warnings.filterwarnings(\"ignore\")\n",
    "import plotly.express as px"
   ]
  },
  {
   "cell_type": "code",
   "execution_count": 3,
   "metadata": {},
   "outputs": [
    {
     "name": "stdout",
     "output_type": "stream",
     "text": [
      "wm\n",
      "days when appliance is active : 14\n",
      "no. of hours: 26\n",
      "ac1\n",
      "days when appliance is active : 50\n",
      "no. of hours: 148\n",
      "ac2\n",
      "days when appliance is active : 46\n",
      "no. of hours: 207\n",
      "f\n",
      "days when appliance is active : 54\n",
      "no. of hours: 1258\n",
      "tv\n",
      "days when appliance is active : 37\n",
      "no. of hours: 285\n"
     ]
    }
   ],
   "source": [
    "\"\"\" data ingestion \"\"\"\n",
    "\n",
    "lst = ['wm',\"ac1\",'ac2',\"f\",'tv']\n",
    "path = \"d:/NILM/Data_files/Parquet/Appliances12_06-04_08/\"\n",
    "\n",
    "\"\"\" data ingestion done \"\"\"\n",
    "\n",
    "\"\"\" data validation and transformation \"\"\"\n",
    "complete_data_lst = []\n",
    "date_dit ={}\n",
    "for i in range(len(lst)):\n",
    "    counter = 0\n",
    "    dit = {}\n",
    "    df = pd.read_parquet(f\"{path}{lst[i]}.parquet\")\n",
    "    df['timestamp'] = pd.to_datetime(df['timestamp'])\n",
    "    df.drop_duplicates(inplace=True)\n",
    "    df.set_index(['timestamp'],inplace=True ,drop=True)  \n",
    "    df.drop(df[(df['frequency']>51) | (df['frequency']<49)].index, inplace=True)\n",
    "    df.drop(df[(df['PF']>1) | (df['PF']<0)].index, inplace=True)\n",
    "    # df.drop(df[(df['current']>20) |(df['current']<0.07)].index, inplace=True)\n",
    "    df.drop(df[df['voltage']<140].index, inplace=True)\n",
    "    \n",
    "    \"\"\" data validation done \"\"\"\n",
    "    \n",
    "    \"\"\" data transformation \"\"\"\n",
    "    df['power'] = (df['voltage'] * df['current'] * df['PF']).round(2)\n",
    "    if lst[i]==\"f\":\n",
    "        df_appliance = df[['power',\"voltage\",'current']].resample(rule=\"1s\").asfreq()\n",
    "        df_appliance = df_appliance.rename(columns={'power': f'{lst[i]}_A', 'voltage': f'{lst[i]}_V', 'current': f'{lst[i]}_C'})\n",
    "        unique_dates = pd.Series(df.index.date).unique()\n",
    "        for date1 in unique_dates:\n",
    "            hours_lst = []\n",
    "            df_date = df[df.index.to_series().dt.date == date1]\n",
    "            hours = df_date.index.hour.unique()\n",
    "            for y in hours:\n",
    "                hours_lst.append(y)\n",
    "                counter+=1\n",
    "            dit[f\"{date1}\"] = hours_lst\n",
    "    else:\n",
    "        df_sample_lst = []\n",
    "        unique_dates = pd.Series(df.index.date).unique()\n",
    "        for date1 in unique_dates:\n",
    "            hours_lst = []\n",
    "            df_date = df[df.index.to_series().dt.date == date1]\n",
    "            hours = df_date.index.hour.unique()\n",
    "            for y in hours:\n",
    "                hours_lst.append(y)\n",
    "                date2 = f\"{date1} {y:02d}\"\n",
    "                df_hour = df_date.loc[date2]\n",
    "                df_resampled_hour = df_hour[['power',\"voltage\",'current']].resample(rule=\"1s\").asfreq()\n",
    "                df_sample_lst.append(df_resampled_hour)\n",
    "                counter+=1\n",
    "            \n",
    "            dit[f\"{date1}\"] = hours_lst\n",
    "\n",
    "        df_appliance = pd.concat(df_sample_lst)\n",
    "        df_appliance = df_appliance.rename(columns={'power': f'{lst[i]}_A', 'voltage': f'{lst[i]}_V', 'current': f'{lst[i]}_C'})\n",
    "\n",
    "    date_dit[f\"{lst[i]}\"] = dit\n",
    "    print(lst[i])\n",
    "    print(\"days when appliance is active :\", len(unique_dates))\n",
    "    print(\"no. of hours:\", counter)\n",
    "    complete_data_lst.append(df_appliance)\n"
   ]
  },
  {
   "cell_type": "code",
   "execution_count": 4,
   "metadata": {},
   "outputs": [
    {
     "name": "stdout",
     "output_type": "stream",
     "text": [
      "days when appliance is active : 14\n",
      "no. of hours: 26\n",
      "days when appliance is active : 50\n",
      "no. of hours: 148\n",
      "days when appliance is active : 46\n",
      "no. of hours: 207\n",
      "days when appliance is active : 54\n",
      "no. of hours: 1273\n",
      "days when appliance is active : 37\n",
      "no. of hours: 285\n"
     ]
    }
   ],
   "source": [
    "for i in range(len(complete_data_lst)):\n",
    "    counter = 0\n",
    "    df = complete_data_lst[i]\n",
    "    unique_dates = pd.Series(df.index.date).unique()\n",
    "    for date1 in unique_dates:\n",
    "        df_date = df[df.index.to_series().dt.date == date1]\n",
    "        hours = df_date.index.hour.unique()\n",
    "        for y in hours:\n",
    "            counter+=1\n",
    "    print(\"days when appliance is active :\", len(unique_dates))\n",
    "    print(\"no. of hours:\", counter)"
   ]
  },
  {
   "cell_type": "code",
   "execution_count": 5,
   "metadata": {},
   "outputs": [
    {
     "name": "stdout",
     "output_type": "stream",
     "text": [
      "14\n",
      "50\n",
      "46\n",
      "54\n",
      "37\n"
     ]
    }
   ],
   "source": [
    "for i in range(len(complete_data_lst)):\n",
    "    df = complete_data_lst[i]\n",
    "    unique_dates = pd.Series(df.index.date).unique()\n",
    "    print(len(unique_dates))"
   ]
  },
  {
   "cell_type": "code",
   "execution_count": 12,
   "metadata": {},
   "outputs": [
    {
     "data": {
      "text/plain": [
       "dict_keys(['wm', 'ac1', 'ac2', 'f', 'tv'])"
      ]
     },
     "execution_count": 12,
     "metadata": {},
     "output_type": "execute_result"
    }
   ],
   "source": [
    "date_dit.keys()"
   ]
  },
  {
   "cell_type": "code",
   "execution_count": 16,
   "metadata": {},
   "outputs": [
    {
     "data": {
      "text/plain": [
       "{'2013-06-14': [1],\n",
       " '2013-06-17': [4],\n",
       " '2013-06-21': [0, 1],\n",
       " '2013-06-24': [5],\n",
       " '2013-06-28': [1, 2],\n",
       " '2013-07-02': [5, 6],\n",
       " '2013-07-07': [1],\n",
       " '2013-07-10': [1, 2, 4, 12],\n",
       " '2013-07-14': [1, 2],\n",
       " '2013-07-17': [1, 2, 4],\n",
       " '2013-07-21': [1, 3],\n",
       " '2013-07-25': [2],\n",
       " '2013-07-28': [1, 2],\n",
       " '2013-07-31': [1, 2]}"
      ]
     },
     "execution_count": 16,
     "metadata": {},
     "output_type": "execute_result"
    }
   ],
   "source": [
    "date_dit['wm']"
   ]
  },
  {
   "cell_type": "code",
   "execution_count": null,
   "metadata": {},
   "outputs": [],
   "source": []
  }
 ],
 "metadata": {
  "kernelspec": {
   "display_name": "env",
   "language": "python",
   "name": "python3"
  },
  "language_info": {
   "codemirror_mode": {
    "name": "ipython",
    "version": 3
   },
   "file_extension": ".py",
   "mimetype": "text/x-python",
   "name": "python",
   "nbconvert_exporter": "python",
   "pygments_lexer": "ipython3",
   "version": "3.11.5"
  }
 },
 "nbformat": 4,
 "nbformat_minor": 2
}
