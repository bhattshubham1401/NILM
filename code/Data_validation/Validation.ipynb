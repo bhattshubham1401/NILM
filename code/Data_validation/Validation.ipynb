{
 "cells": [
  {
   "cell_type": "code",
   "execution_count": 1,
   "metadata": {},
   "outputs": [],
   "source": [
    "import pandas as pd\n",
    "import numpy as np\n",
    "import matplotlib.pyplot as plt\n",
    "plt.rcParams[\"figure.figsize\"]= (10,2)\n",
    "from statsmodels.tsa.stattools import adfuller\n",
    "import warnings\n",
    "warnings.filterwarnings(\"ignore\")\n",
    "import plotly.express as px"
   ]
  },
  {
   "cell_type": "code",
   "execution_count": 2,
   "metadata": {},
   "outputs": [],
   "source": [
    "def sliderPlot(df1,t=None):\n",
    "    if t ==\"line\":\n",
    "        fig = px.line(x=df1.index, y=df1)\n",
    "    else:\n",
    "        fig = px.scatter(x=df1.index, y=df1)\n",
    "    fig.update_xaxes(\n",
    "        rangeslider_visible=True,\n",
    "        rangeselector=dict(\n",
    "            buttons=list([\n",
    "                dict(count=1, label=\"1y\", step=\"year\", stepmode=\"backward\"),\n",
    "                dict(count=2, label=\"2y\", step=\"year\", stepmode=\"backward\"),\n",
    "                dict(count=3, label=\"3y\", step=\"year\", stepmode=\"backward\"),\n",
    "                dict(step=\"all\")\n",
    "            ])))\n",
    "    fig.show()\n",
    "    return\n",
    "def scatter(df1):\n",
    "    plt.scatter(df1.index, df1, color='k',s=10)\n",
    "    plt.xlabel('timestamp')\n",
    "    # plt.title('current')\n",
    "    plt.show()"
   ]
  },
  {
   "cell_type": "code",
   "execution_count": 31,
   "metadata": {},
   "outputs": [
    {
     "name": "stdout",
     "output_type": "stream",
     "text": [
      "no. of dropped records in wm : 0\n",
      "no of records in wm: 20885\n",
      "no. of dropped records in ac1 : 9\n",
      "no of records in ac1: 337732\n",
      "no. of dropped records in ac2 : 39\n",
      "no of records in ac2: 426542\n",
      "no. of dropped records in f : 220\n",
      "no of records in f: 4043992\n",
      "no. of dropped records in tv : 15\n",
      "no of records in tv: 414699\n"
     ]
    }
   ],
   "source": [
    "lst = ['wm',\"ac1\",'ac2',\"f\",'tv']\n",
    "path = \"d:/NILM/Data_files/Parquet/Appliances12_06-04_08/\"\n",
    "l = []\n",
    "for i in range(len(lst)):\n",
    "    df = pd.read_parquet(f\"{path}{lst[i]}.parquet\")\n",
    "    # print(f\"no of records in {lst[i]}:\",len(df))\n",
    "    x = len(df)\n",
    "    df.drop_duplicates(inplace=True)\n",
    "    df.set_index(['timestamp'],inplace=True ,drop=True)\n",
    "    # print(f\"null in {lst[i]}:\",df.isna().sum().sum())\n",
    "    # print(f\"duplicates in {lst[i]}:\",df.duplicated().sum())\n",
    "    df.drop(df[(df['frequency']>51) | (df['frequency']<49)].index, inplace=True)\n",
    "    df.drop(df[(df['PF']>1) | (df['PF']<0)].index, inplace=True)\n",
    "    print(f\"no. of dropped records in {lst[i]} :\",(x - len(df)))    \n",
    "    print(f\"no of records in {lst[i]}:\",len(df))\n",
    "    l.append(df)\n"
   ]
  },
  {
   "cell_type": "markdown",
   "metadata": {},
   "source": [
    "washing machine\n"
   ]
  },
  {
   "cell_type": "code",
   "execution_count": 32,
   "metadata": {},
   "outputs": [
    {
     "name": "stdout",
     "output_type": "stream",
     "text": [
      "2013-06-14 01 1939\n",
      "2013-06-17 04 1507\n",
      "2013-06-21 00 4\n",
      "2013-06-21 01 1674\n",
      "2013-06-24 05 1330\n",
      "2013-06-28 01 678\n",
      "2013-06-28 02 1538\n",
      "2013-07-02 05 1677\n",
      "2013-07-02 06 53\n",
      "2013-07-07 01 2091\n",
      "2013-07-10 01 474\n",
      "2013-07-10 02 279\n",
      "2013-07-10 04 715\n",
      "2013-07-10 12 157\n",
      "2013-07-14 01 1081\n",
      "2013-07-14 02 319\n",
      "2013-07-17 01 1102\n",
      "2013-07-17 02 541\n",
      "2013-07-17 04 1184\n",
      "2013-07-21 01 1325\n",
      "2013-07-21 03 679\n",
      "2013-07-25 02 3055\n",
      "2013-07-28 01 1373\n",
      "2013-07-28 02 513\n",
      "2013-07-31 01 941\n",
      "2013-07-31 02 1434\n",
      "days when appliance is active : 14\n",
      "no. of hours: 26\n"
     ]
    }
   ],
   "source": [
    "df = l[0]\n",
    "dit = {}\n",
    "lst = []\n",
    "x = 0\n",
    "df.reset_index(inplace=True)\n",
    "df['timestamp'] = pd.to_datetime(df['timestamp'])\n",
    "df.set_index(['timestamp'],inplace=True ,drop=True)\n",
    "df['power'] = (df['voltage'] * df['current'] * df['PF']).round(2)\n",
    "unique_dates = pd.Series(df.index.date).unique()\n",
    "for date in unique_dates:\n",
    "    lst2 = []\n",
    "    result = df[df.index.to_series().dt.date == date]\n",
    "    hours = result.index.hour.unique()\n",
    "    for i in hours:\n",
    "        daate = f\"{date} {i:02d}\"\n",
    "        result_hour = result.loc[daate]\n",
    "        data = result_hour[['power',\"voltage\",'current']].resample(rule=\"1s\").mean()\n",
    "        print(daate,len(data))\n",
    "        # y = data['current'].isna().sum().sum()\n",
    "        lst.append(data)\n",
    "        lst2.append(i)\n",
    "        x+=1\n",
    "    dit[f\"{date}\"]= lst2\n",
    "print(\"days when appliance is active :\", len(unique_dates))\n",
    "print(\"no. of hours:\", x)                \n",
    "\n",
    "                "
   ]
  },
  {
   "cell_type": "code",
   "execution_count": null,
   "metadata": {},
   "outputs": [],
   "source": []
  }
 ],
 "metadata": {
  "kernelspec": {
   "display_name": "env",
   "language": "python",
   "name": "python3"
  },
  "language_info": {
   "codemirror_mode": {
    "name": "ipython",
    "version": 3
   },
   "file_extension": ".py",
   "mimetype": "text/x-python",
   "name": "python",
   "nbconvert_exporter": "python",
   "pygments_lexer": "ipython3",
   "version": "3.11.5"
  }
 },
 "nbformat": 4,
 "nbformat_minor": 2
}
