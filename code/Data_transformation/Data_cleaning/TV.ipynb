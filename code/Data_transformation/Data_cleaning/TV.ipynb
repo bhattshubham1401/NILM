{
 "cells": [
  {
   "cell_type": "code",
   "execution_count": null,
   "metadata": {},
   "outputs": [],
   "source": [
    "import pandas as pd\n",
    "import numpy as np\n",
    "import matplotlib.pyplot as plt\n",
    "plt.rcParams[\"figure.figsize\"]= (10,2)\n",
    "from statsmodels.tsa.stattools import adfuller\n",
    "import warnings\n",
    "warnings.filterwarnings(\"ignore\")\n",
    "import plotly.express as px\n",
    "from sklearn.impute import KNNImputer\n",
    "import sys\n",
    "sys.path.append(\"D://NILM/code/\")\n",
    "from common import sliderPlot, create_features, scatter\n",
    "from main import NILM"
   ]
  },
  {
   "cell_type": "code",
   "execution_count": null,
   "metadata": {},
   "outputs": [],
   "source": [
    "complete_data_lst =  NILM()"
   ]
  },
  {
   "cell_type": "code",
   "execution_count": null,
   "metadata": {},
   "outputs": [],
   "source": [
    "import numpy as np\n",
    "from scipy.interpolate import interp1d\n",
    "\n",
    "def fill_missing_values(data, missing_indices):\n",
    "    # Assuming data is a 1D array representing your dataset\n",
    "    x = np.arange(len(data))\n",
    "\n",
    "    # Identify known values\n",
    "    known_indices = np.delete(np.arange(len(data)), missing_indices)\n",
    "    known_values = np.delete(data, missing_indices)\n",
    "\n",
    "    # Perform spline interpolation\n",
    "    spline_interpolator = interp1d(known_indices, known_values, kind='cubic', fill_value=\"extrapolate\")\n",
    "\n",
    "    # Interpolate missing values\n",
    "    interpolated_values = spline_interpolator(missing_indices)\n",
    "\n",
    "    # Replace missing values with interpolated values\n",
    "    data[missing_indices] = interpolated_values\n",
    "\n",
    "    return data\n",
    "\n",
    "# Example usage:\n",
    "data = np.array([1, 2, np.nan, 4, 5, np.nan, 7, 8, 9])\n",
    "missing_indices = np.isnan(data)\n",
    "\n",
    "data = fill_missing_values(data, missing_indices)\n",
    "print(data)\n"
   ]
  },
  {
   "cell_type": "code",
   "execution_count": null,
   "metadata": {},
   "outputs": [],
   "source": [
    "import pandas as pd\n",
    "import numpy as np\n",
    "from scipy.interpolate import interp1d\n",
    "\n",
    "# Assuming you have a DataFrame with a datetime index and a column with missing values\n",
    "# Replace this with your actual DataFrame\n",
    "# Example:\n",
    "df = pd.DataFrame({'value': [1, 2, np.nan, 4, 5]}, index=pd.to_datetime(['2022-01-01', '2022-01-02', '2022-01-04', '2022-01-05', '2022-01-06']))\n",
    "\n",
    "# Sort the DataFrame by the datetime index (if not already sorted)\n",
    "df = df.sort_index()\n",
    "\n",
    "# Generate a mask indicating the positions of missing values\n",
    "mask_missing = df['value'].isnull()\n",
    "\n",
    "# Create a new column 'interpolated' to store the interpolated values\n",
    "df['interpolated'] = df['value']\n",
    "\n",
    "# Get the indices of missing values\n",
    "missing_indices = df.index[mask_missing]\n",
    "\n",
    "# Perform spline interpolation for each missing value\n",
    "for index in missing_indices:\n",
    "    # Extract the non-missing values before and after the missing value\n",
    "    before = df.loc[df.index < index, 'value'].dropna().index[-1]\n",
    "    after = df.loc[df.index > index, 'value'].dropna().index[0]\n",
    "\n",
    "    # Perform spline interpolation using the non-missing values\n",
    "    f = interp1d([before, after], [df.loc[before, 'value'], df.loc[after, 'value']], kind='linear')\n",
    "\n",
    "    # Assign the interpolated value to the 'interpolated' column\n",
    "    df.loc[index, 'interpolated'] = f(index)\n",
    "\n",
    "# Optionally, you can replace the original 'value' column with the 'interpolated' column\n",
    "df['value'] = df['interpolated']\n",
    "\n",
    "# Drop the 'interpolated' column if no longer needed\n",
    "df = df.drop('interpolated', axis=1)\n",
    "\n",
    "# Print the final DataFrame with missing values filled using spline interpolation\n",
    "print(df)\n"
   ]
  },
  {
   "cell_type": "code",
   "execution_count": null,
   "metadata": {},
   "outputs": [],
   "source": []
  }
 ],
 "metadata": {
  "kernelspec": {
   "display_name": "env",
   "language": "python",
   "name": "python3"
  },
  "language_info": {
   "codemirror_mode": {
    "name": "ipython",
    "version": 3
   },
   "file_extension": ".py",
   "mimetype": "text/x-python",
   "name": "python",
   "nbconvert_exporter": "python",
   "pygments_lexer": "ipython3",
   "version": "3.11.5"
  }
 },
 "nbformat": 4,
 "nbformat_minor": 2
}
