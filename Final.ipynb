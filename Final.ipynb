{
 "cells": [
  {
   "cell_type": "code",
   "execution_count": 2,
   "metadata": {},
   "outputs": [],
   "source": [
    "import pandas as pd\n",
    "from itertools import combinations\n",
    "import matplotlib.pyplot as plt\n",
    "import seaborn as sns\n",
    "plt.rcParams['figure.figsize'] = 18,5\n",
    "pd.set_option('display.float_format', lambda x: '%.2f' % x)"
   ]
  },
  {
   "cell_type": "code",
   "execution_count": 6,
   "metadata": {},
   "outputs": [],
   "source": [
    "lst= [\"f\",\"ac\",\"tv\",\"wm\"]\n",
    "path1 = \"C:/Users/harsh/OneDrive/Documents/NILM-harsh/Data/\"\n",
    "df_lst = []\n",
    "for i in lst:\n",
    "    df = pd.read_csv(f\"{path1}c_{i}.csv\")\n",
    "    df['Timestamp'] = pd.to_datetime(df['Timestamp'])\n",
    "    df.set_index(['Timestamp'], inplace=True)\n",
    "    df = df[[f\"{i}_A\"]]\n",
    "    df_lst.append(df)\n",
    "\n",
    "all_appliances_df = pd.concat(df_lst, axis=1)"
   ]
  },
  {
   "cell_type": "code",
   "execution_count": null,
   "metadata": {},
   "outputs": [],
   "source": []
  },
  {
   "cell_type": "code",
   "execution_count": 7,
   "metadata": {},
   "outputs": [],
   "source": [
    "aggregate_data = all_appliances_df.groupby(all_appliances_df.index).sum()"
   ]
  },
  {
   "cell_type": "code",
   "execution_count": 8,
   "metadata": {},
   "outputs": [],
   "source": [
    "aggregate_data['aggregate_value'] = aggregate_data.sum(axis=1)\n"
   ]
  },
  {
   "cell_type": "code",
   "execution_count": 9,
   "metadata": {},
   "outputs": [],
   "source": [
    "aggregate_data['devices_running'] = aggregate_data.apply(lambda row: '+ '.join([lst[i] for i, val in enumerate(row[:len(lst)]) if val > 0]), axis=1)"
   ]
  },
  {
   "cell_type": "code",
   "execution_count": 10,
   "metadata": {},
   "outputs": [],
   "source": [
    "aggregate_data.fillna(value=0, inplace=True)"
   ]
  },
  {
   "cell_type": "code",
   "execution_count": 22,
   "metadata": {},
   "outputs": [
    {
     "data": {
      "text/plain": [
       "array(['f', '', 'f, tv', 'tv', 'f, ac', 'f, ac, tv', 'ac', 'f, wm',\n",
       "       'f, tv, wm', 'wm', 'ac, tv'], dtype=object)"
      ]
     },
     "execution_count": 22,
     "metadata": {},
     "output_type": "execute_result"
    }
   ],
   "source": [
    "aggregate_data['devices_running'].unique()"
   ]
  },
  {
   "cell_type": "code",
   "execution_count": 23,
   "metadata": {},
   "outputs": [
    {
     "data": {
      "text/html": [
       "<div>\n",
       "<style scoped>\n",
       "    .dataframe tbody tr th:only-of-type {\n",
       "        vertical-align: middle;\n",
       "    }\n",
       "\n",
       "    .dataframe tbody tr th {\n",
       "        vertical-align: top;\n",
       "    }\n",
       "\n",
       "    .dataframe thead th {\n",
       "        text-align: right;\n",
       "    }\n",
       "</style>\n",
       "<table border=\"1\" class=\"dataframe\">\n",
       "  <thead>\n",
       "    <tr style=\"text-align: right;\">\n",
       "      <th></th>\n",
       "      <th>f_A</th>\n",
       "      <th>ac_A</th>\n",
       "      <th>tv_A</th>\n",
       "      <th>wm_A</th>\n",
       "      <th>aggregate_value</th>\n",
       "      <th>devices_running</th>\n",
       "    </tr>\n",
       "    <tr>\n",
       "      <th>Timestamp</th>\n",
       "      <th></th>\n",
       "      <th></th>\n",
       "      <th></th>\n",
       "      <th></th>\n",
       "      <th></th>\n",
       "      <th></th>\n",
       "    </tr>\n",
       "  </thead>\n",
       "  <tbody>\n",
       "    <tr>\n",
       "      <th>2013-06-12 00:29:04</th>\n",
       "      <td>0.00</td>\n",
       "      <td>0.00</td>\n",
       "      <td>0.00</td>\n",
       "      <td>0.00</td>\n",
       "      <td>0.00</td>\n",
       "      <td></td>\n",
       "    </tr>\n",
       "    <tr>\n",
       "      <th>2013-06-12 00:34:41</th>\n",
       "      <td>0.00</td>\n",
       "      <td>0.00</td>\n",
       "      <td>0.00</td>\n",
       "      <td>0.00</td>\n",
       "      <td>0.00</td>\n",
       "      <td></td>\n",
       "    </tr>\n",
       "    <tr>\n",
       "      <th>2013-06-12 02:54:58</th>\n",
       "      <td>0.00</td>\n",
       "      <td>0.00</td>\n",
       "      <td>0.00</td>\n",
       "      <td>0.00</td>\n",
       "      <td>0.00</td>\n",
       "      <td></td>\n",
       "    </tr>\n",
       "    <tr>\n",
       "      <th>2013-06-12 03:34:11</th>\n",
       "      <td>0.00</td>\n",
       "      <td>0.00</td>\n",
       "      <td>0.00</td>\n",
       "      <td>0.00</td>\n",
       "      <td>0.00</td>\n",
       "      <td></td>\n",
       "    </tr>\n",
       "    <tr>\n",
       "      <th>2013-06-12 03:36:00</th>\n",
       "      <td>0.00</td>\n",
       "      <td>0.00</td>\n",
       "      <td>0.00</td>\n",
       "      <td>0.00</td>\n",
       "      <td>0.00</td>\n",
       "      <td></td>\n",
       "    </tr>\n",
       "    <tr>\n",
       "      <th>...</th>\n",
       "      <td>...</td>\n",
       "      <td>...</td>\n",
       "      <td>...</td>\n",
       "      <td>...</td>\n",
       "      <td>...</td>\n",
       "      <td>...</td>\n",
       "    </tr>\n",
       "    <tr>\n",
       "      <th>2013-08-02 23:59:02</th>\n",
       "      <td>0.00</td>\n",
       "      <td>0.00</td>\n",
       "      <td>0.00</td>\n",
       "      <td>0.00</td>\n",
       "      <td>0.00</td>\n",
       "      <td></td>\n",
       "    </tr>\n",
       "    <tr>\n",
       "      <th>2013-08-03 00:30:08</th>\n",
       "      <td>0.00</td>\n",
       "      <td>0.00</td>\n",
       "      <td>0.00</td>\n",
       "      <td>0.00</td>\n",
       "      <td>0.00</td>\n",
       "      <td></td>\n",
       "    </tr>\n",
       "    <tr>\n",
       "      <th>2013-08-03 04:33:33</th>\n",
       "      <td>0.00</td>\n",
       "      <td>0.00</td>\n",
       "      <td>0.00</td>\n",
       "      <td>0.00</td>\n",
       "      <td>0.00</td>\n",
       "      <td></td>\n",
       "    </tr>\n",
       "    <tr>\n",
       "      <th>2013-08-03 04:56:09</th>\n",
       "      <td>0.00</td>\n",
       "      <td>0.00</td>\n",
       "      <td>0.00</td>\n",
       "      <td>0.00</td>\n",
       "      <td>0.00</td>\n",
       "      <td></td>\n",
       "    </tr>\n",
       "    <tr>\n",
       "      <th>2013-08-03 12:09:15</th>\n",
       "      <td>0.00</td>\n",
       "      <td>0.00</td>\n",
       "      <td>0.00</td>\n",
       "      <td>0.00</td>\n",
       "      <td>0.00</td>\n",
       "      <td></td>\n",
       "    </tr>\n",
       "  </tbody>\n",
       "</table>\n",
       "<p>881 rows × 6 columns</p>\n",
       "</div>"
      ],
      "text/plain": [
       "                     f_A  ac_A  tv_A  wm_A  aggregate_value devices_running\n",
       "Timestamp                                                                  \n",
       "2013-06-12 00:29:04 0.00  0.00  0.00  0.00             0.00                \n",
       "2013-06-12 00:34:41 0.00  0.00  0.00  0.00             0.00                \n",
       "2013-06-12 02:54:58 0.00  0.00  0.00  0.00             0.00                \n",
       "2013-06-12 03:34:11 0.00  0.00  0.00  0.00             0.00                \n",
       "2013-06-12 03:36:00 0.00  0.00  0.00  0.00             0.00                \n",
       "...                  ...   ...   ...   ...              ...             ...\n",
       "2013-08-02 23:59:02 0.00  0.00  0.00  0.00             0.00                \n",
       "2013-08-03 00:30:08 0.00  0.00  0.00  0.00             0.00                \n",
       "2013-08-03 04:33:33 0.00  0.00  0.00  0.00             0.00                \n",
       "2013-08-03 04:56:09 0.00  0.00  0.00  0.00             0.00                \n",
       "2013-08-03 12:09:15 0.00  0.00  0.00  0.00             0.00                \n",
       "\n",
       "[881 rows x 6 columns]"
      ]
     },
     "execution_count": 23,
     "metadata": {},
     "output_type": "execute_result"
    }
   ],
   "source": [
    "aggregate_data[aggregate_data['devices_running'] == '']    "
   ]
  },
  {
   "cell_type": "code",
   "execution_count": null,
   "metadata": {},
   "outputs": [],
   "source": []
  },
  {
   "cell_type": "code",
   "execution_count": 17,
   "metadata": {},
   "outputs": [
    {
     "name": "stdout",
     "output_type": "stream",
     "text": [
      "Aggregate values where TV is running:\n"
     ]
    },
    {
     "data": {
      "text/html": [
       "<div>\n",
       "<style scoped>\n",
       "    .dataframe tbody tr th:only-of-type {\n",
       "        vertical-align: middle;\n",
       "    }\n",
       "\n",
       "    .dataframe tbody tr th {\n",
       "        vertical-align: top;\n",
       "    }\n",
       "\n",
       "    .dataframe thead th {\n",
       "        text-align: right;\n",
       "    }\n",
       "</style>\n",
       "<table border=\"1\" class=\"dataframe\">\n",
       "  <thead>\n",
       "    <tr style=\"text-align: right;\">\n",
       "      <th></th>\n",
       "      <th>f_A</th>\n",
       "      <th>ac_A</th>\n",
       "      <th>tv_A</th>\n",
       "      <th>wm_A</th>\n",
       "      <th>aggregate_value</th>\n",
       "      <th>devices_running</th>\n",
       "    </tr>\n",
       "    <tr>\n",
       "      <th>Timestamp</th>\n",
       "      <th></th>\n",
       "      <th></th>\n",
       "      <th></th>\n",
       "      <th></th>\n",
       "      <th></th>\n",
       "      <th></th>\n",
       "    </tr>\n",
       "  </thead>\n",
       "  <tbody>\n",
       "    <tr>\n",
       "      <th>2013-06-12 06:26:28</th>\n",
       "      <td>37.71</td>\n",
       "      <td>0.00</td>\n",
       "      <td>74.77</td>\n",
       "      <td>0.00</td>\n",
       "      <td>112.48</td>\n",
       "      <td>f, tv</td>\n",
       "    </tr>\n",
       "    <tr>\n",
       "      <th>2013-06-12 06:26:29</th>\n",
       "      <td>37.63</td>\n",
       "      <td>0.00</td>\n",
       "      <td>74.43</td>\n",
       "      <td>0.00</td>\n",
       "      <td>112.06</td>\n",
       "      <td>f, tv</td>\n",
       "    </tr>\n",
       "    <tr>\n",
       "      <th>2013-06-12 06:26:30</th>\n",
       "      <td>37.54</td>\n",
       "      <td>0.00</td>\n",
       "      <td>74.76</td>\n",
       "      <td>0.00</td>\n",
       "      <td>112.30</td>\n",
       "      <td>f, tv</td>\n",
       "    </tr>\n",
       "    <tr>\n",
       "      <th>2013-06-12 06:26:31</th>\n",
       "      <td>37.60</td>\n",
       "      <td>0.00</td>\n",
       "      <td>74.83</td>\n",
       "      <td>0.00</td>\n",
       "      <td>112.43</td>\n",
       "      <td>f, tv</td>\n",
       "    </tr>\n",
       "    <tr>\n",
       "      <th>2013-06-12 06:26:32</th>\n",
       "      <td>37.53</td>\n",
       "      <td>0.00</td>\n",
       "      <td>74.54</td>\n",
       "      <td>0.00</td>\n",
       "      <td>112.07</td>\n",
       "      <td>f, tv</td>\n",
       "    </tr>\n",
       "    <tr>\n",
       "      <th>...</th>\n",
       "      <td>...</td>\n",
       "      <td>...</td>\n",
       "      <td>...</td>\n",
       "      <td>...</td>\n",
       "      <td>...</td>\n",
       "      <td>...</td>\n",
       "    </tr>\n",
       "    <tr>\n",
       "      <th>2013-08-03 14:55:27</th>\n",
       "      <td>117.83</td>\n",
       "      <td>0.00</td>\n",
       "      <td>72.86</td>\n",
       "      <td>0.00</td>\n",
       "      <td>190.69</td>\n",
       "      <td>f, tv</td>\n",
       "    </tr>\n",
       "    <tr>\n",
       "      <th>2013-08-03 14:55:28</th>\n",
       "      <td>117.76</td>\n",
       "      <td>0.00</td>\n",
       "      <td>73.09</td>\n",
       "      <td>0.00</td>\n",
       "      <td>190.85</td>\n",
       "      <td>f, tv</td>\n",
       "    </tr>\n",
       "    <tr>\n",
       "      <th>2013-08-03 14:55:29</th>\n",
       "      <td>117.74</td>\n",
       "      <td>0.00</td>\n",
       "      <td>73.09</td>\n",
       "      <td>0.00</td>\n",
       "      <td>190.83</td>\n",
       "      <td>f, tv</td>\n",
       "    </tr>\n",
       "    <tr>\n",
       "      <th>2013-08-03 14:55:30</th>\n",
       "      <td>117.59</td>\n",
       "      <td>0.00</td>\n",
       "      <td>73.40</td>\n",
       "      <td>0.00</td>\n",
       "      <td>190.99</td>\n",
       "      <td>f, tv</td>\n",
       "    </tr>\n",
       "    <tr>\n",
       "      <th>2013-08-03 14:55:31</th>\n",
       "      <td>117.71</td>\n",
       "      <td>0.00</td>\n",
       "      <td>72.96</td>\n",
       "      <td>0.00</td>\n",
       "      <td>190.67</td>\n",
       "      <td>f, tv</td>\n",
       "    </tr>\n",
       "  </tbody>\n",
       "</table>\n",
       "<p>475802 rows × 6 columns</p>\n",
       "</div>"
      ],
      "text/plain": [
       "                       f_A  ac_A  tv_A  wm_A  aggregate_value devices_running\n",
       "Timestamp                                                                    \n",
       "2013-06-12 06:26:28  37.71  0.00 74.77  0.00           112.48           f, tv\n",
       "2013-06-12 06:26:29  37.63  0.00 74.43  0.00           112.06           f, tv\n",
       "2013-06-12 06:26:30  37.54  0.00 74.76  0.00           112.30           f, tv\n",
       "2013-06-12 06:26:31  37.60  0.00 74.83  0.00           112.43           f, tv\n",
       "2013-06-12 06:26:32  37.53  0.00 74.54  0.00           112.07           f, tv\n",
       "...                    ...   ...   ...   ...              ...             ...\n",
       "2013-08-03 14:55:27 117.83  0.00 72.86  0.00           190.69           f, tv\n",
       "2013-08-03 14:55:28 117.76  0.00 73.09  0.00           190.85           f, tv\n",
       "2013-08-03 14:55:29 117.74  0.00 73.09  0.00           190.83           f, tv\n",
       "2013-08-03 14:55:30 117.59  0.00 73.40  0.00           190.99           f, tv\n",
       "2013-08-03 14:55:31 117.71  0.00 72.96  0.00           190.67           f, tv\n",
       "\n",
       "[475802 rows x 6 columns]"
      ]
     },
     "execution_count": 17,
     "metadata": {},
     "output_type": "execute_result"
    }
   ],
   "source": [
    "tv_running_data = aggregate_data[aggregate_data['devices_running'].str.contains('tv')]\n",
    "\n",
    "# Print the aggregate values where TV is running\n",
    "print(\"Aggregate values where TV is running:\")\n",
    "tv_running_data"
   ]
  },
  {
   "cell_type": "code",
   "execution_count": null,
   "metadata": {},
   "outputs": [],
   "source": []
  },
  {
   "cell_type": "code",
   "execution_count": null,
   "metadata": {},
   "outputs": [],
   "source": []
  },
  {
   "cell_type": "code",
   "execution_count": null,
   "metadata": {},
   "outputs": [],
   "source": []
  },
  {
   "cell_type": "code",
   "execution_count": null,
   "metadata": {},
   "outputs": [],
   "source": []
  },
  {
   "cell_type": "code",
   "execution_count": null,
   "metadata": {},
   "outputs": [],
   "source": []
  },
  {
   "cell_type": "code",
   "execution_count": 21,
   "metadata": {},
   "outputs": [],
   "source": []
  },
  {
   "cell_type": "code",
   "execution_count": 22,
   "metadata": {},
   "outputs": [],
   "source": [
    "\n",
    "    "
   ]
  },
  {
   "cell_type": "code",
   "execution_count": null,
   "metadata": {},
   "outputs": [],
   "source": []
  },
  {
   "cell_type": "code",
   "execution_count": null,
   "metadata": {},
   "outputs": [],
   "source": []
  },
  {
   "cell_type": "code",
   "execution_count": null,
   "metadata": {},
   "outputs": [],
   "source": []
  },
  {
   "cell_type": "code",
   "execution_count": null,
   "metadata": {},
   "outputs": [],
   "source": []
  },
  {
   "cell_type": "code",
   "execution_count": null,
   "metadata": {},
   "outputs": [],
   "source": []
  },
  {
   "cell_type": "code",
   "execution_count": null,
   "metadata": {},
   "outputs": [],
   "source": []
  },
  {
   "cell_type": "code",
   "execution_count": null,
   "metadata": {},
   "outputs": [],
   "source": []
  },
  {
   "cell_type": "code",
   "execution_count": null,
   "metadata": {},
   "outputs": [],
   "source": []
  },
  {
   "cell_type": "code",
   "execution_count": null,
   "metadata": {},
   "outputs": [],
   "source": []
  },
  {
   "cell_type": "code",
   "execution_count": null,
   "metadata": {},
   "outputs": [],
   "source": []
  },
  {
   "cell_type": "code",
   "execution_count": null,
   "metadata": {},
   "outputs": [],
   "source": []
  },
  {
   "cell_type": "code",
   "execution_count": null,
   "metadata": {},
   "outputs": [],
   "source": []
  }
 ],
 "metadata": {
  "kernelspec": {
   "display_name": "env",
   "language": "python",
   "name": "python3"
  },
  "language_info": {
   "codemirror_mode": {
    "name": "ipython",
    "version": 3
   },
   "file_extension": ".py",
   "mimetype": "text/x-python",
   "name": "python",
   "nbconvert_exporter": "python",
   "pygments_lexer": "ipython3",
   "version": "3.11.5"
  }
 },
 "nbformat": 4,
 "nbformat_minor": 2
}
